{
 "cells": [
  {
   "cell_type": "markdown",
   "metadata": {
    "collapsed": true,
    "pycharm": {
     "name": "#%% md\n"
    }
   },
   "source": [
    "# CP2410 - Practical 3"
   ]
  },
  {
   "cell_type": "markdown",
   "source": [
    "## Question 1"
   ],
   "metadata": {
    "collapsed": false,
    "pycharm": {
     "name": "#%% md\n"
    }
   }
  },
  {
   "cell_type": "code",
   "execution_count": 53,
   "outputs": [],
   "source": [
    "import numpy as np"
   ],
   "metadata": {
    "collapsed": false,
    "pycharm": {
     "name": "#%%\n"
    }
   }
  },
  {
   "cell_type": "code",
   "execution_count": 54,
   "outputs": [
    {
     "name": "stdout",
     "output_type": "stream",
     "text": [
      "0\n"
     ]
    }
   ],
   "source": [
    "def find_max(s):\n",
    "    if len(s) < 1:\n",
    "        return None\n",
    "    else:\n",
    "        if len(s) == 1:\n",
    "            return s[0]\n",
    "        else:\n",
    "            return s[-1] if s[-1] > find_max(s[:-1]) else find_max(s[:-1])\n",
    "\n",
    "\n",
    "import numpy as np\n",
    "\n",
    "rng = np.random.default_rng(0)\n",
    "false_count = 0\n",
    "for i in range(10):\n",
    "    random_array = rng.integers(100, size=(1, 5))[0]\n",
    "    if np.max(random_array) != find_max(random_array):\n",
    "        false_count += 1\n",
    "print(false_count)\n",
    "# the function works"
   ],
   "metadata": {
    "collapsed": false,
    "pycharm": {
     "name": "#%%\n"
    }
   }
  },
  {
   "cell_type": "markdown",
   "source": [
    "For an input of size n, the find_max() will make about n+1 function calls. Therefore, it will take O(n) running times. It also takes O(n) space"
   ],
   "metadata": {
    "collapsed": false,
    "pycharm": {
     "name": "#%% md\n"
    }
   }
  },
  {
   "cell_type": "markdown",
   "source": [
    "## Question 2"
   ],
   "metadata": {
    "collapsed": false,
    "pycharm": {
     "name": "#%% md\n"
    }
   }
  },
  {
   "cell_type": "code",
   "source": [
    "def power(x, n):\n",
    "    \"\"\"Compute the value x**n for integer n.\"\"\"\n",
    "    if n == 0:\n",
    "        return 1\n",
    "    else:\n",
    "        return x * power(x, n - 1)"
   ],
   "metadata": {
    "collapsed": false,
    "pycharm": {
     "name": "#%%\n"
    }
   },
   "execution_count": 55,
   "outputs": []
  },
  {
   "cell_type": "markdown",
   "source": [
    "power(2,5) => return 2\\*16=32\n",
    ">power(2,4) => return 2\\*8 =16\n",
    ">>power(2,3) => return 2\\*4=8\n",
    ">>>power(2,2) => return 2\\*2=4\n",
    ">>>>power(2,1) => return 2\\*1=2\n",
    ">>>>>power(2,0) => return 1"
   ],
   "metadata": {
    "collapsed": false,
    "pycharm": {
     "name": "#%% md\n"
    }
   }
  },
  {
   "cell_type": "markdown",
   "source": [
    "## Question 3"
   ],
   "metadata": {
    "collapsed": false,
    "pycharm": {
     "name": "#%% md\n"
    }
   }
  },
  {
   "cell_type": "code",
   "execution_count": 56,
   "outputs": [],
   "source": [
    "def power(x, n):\n",
    "    \"\"\"Compute the value x**n for integer n.\"\"\"\n",
    "    if n == 0:\n",
    "        return 1\n",
    "    else:\n",
    "        partial = power(x, n // 2)  # rely on truncated division\n",
    "        result = partial * partial\n",
    "        if n % 2 == 1:  # if n odd, include extra factor of x\n",
    "            result *= x\n",
    "        return result"
   ],
   "metadata": {
    "collapsed": false,
    "pycharm": {
     "name": "#%%\n"
    }
   }
  },
  {
   "cell_type": "markdown",
   "source": [
    "power(2,18) return 512*512=512**2\n",
    ">power(2,9) return (16*16)*2=512\n",
    ">> power(2,4) return 4*4=16\n",
    ">>> power(2,2) return 2*2  =4\n",
    ">>>> power(2,1) return (1*1)*2=2\n",
    ">>>>> power(2,0) return 1"
   ],
   "metadata": {
    "collapsed": false,
    "pycharm": {
     "name": "#%% md\n"
    }
   }
  },
  {
   "cell_type": "markdown",
   "source": [
    "## Question 4: Give a recursive algorithm to compute the product of two positive integers, m and n, using only addition and subtraction"
   ],
   "metadata": {
    "collapsed": false,
    "pycharm": {
     "name": "#%% md\n"
    }
   }
  },
  {
   "cell_type": "code",
   "execution_count": 57,
   "outputs": [
    {
     "name": "stdout",
     "output_type": "stream",
     "text": [
      "12\n",
      "30\n"
     ]
    }
   ],
   "source": [
    "def product(m, n):\n",
    "    if n == 0:\n",
    "        return 1\n",
    "    elif n == 1:\n",
    "        return m\n",
    "    else:\n",
    "        return m + product(m, n - 1)\n",
    "\n",
    "\n",
    "print(product(3, 4))\n",
    "print(product(5, 6))"
   ],
   "metadata": {
    "collapsed": false,
    "pycharm": {
     "name": "#%%\n"
    }
   }
  },
  {
   "cell_type": "markdown",
   "source": [
    "## Question5:"
   ],
   "metadata": {
    "collapsed": false,
    "pycharm": {
     "name": "#%% md\n"
    }
   }
  },
  {
   "cell_type": "markdown",
   "source": [
    "I appended two screenshots for the time taken when using Python list and using Dynamic Array.\n",
    "in short, using DynamicArray instead of List will take more time to run."
   ],
   "metadata": {
    "collapsed": false,
    "pycharm": {
     "name": "#%% md\n"
    }
   }
  },
  {
   "cell_type": "markdown",
   "source": [
    "## Question 6:"
   ],
   "metadata": {
    "collapsed": false,
    "pycharm": {
     "name": "#%% md\n"
    }
   }
  },
  {
   "cell_type": "markdown",
   "source": [
    "I append two python files for this questions and some screenshots"
   ],
   "metadata": {
    "collapsed": false,
    "pycharm": {
     "name": "#%% md\n"
    }
   }
  },
  {
   "cell_type": "code",
   "execution_count": 58,
   "outputs": [],
   "source": [
    "import ctypes  # provides low-level arrays\n",
    "\n",
    "\n",
    "class DynamicArray:\n",
    "    \"\"\"A dynamic array class akin to a simplified Python list.\"\"\"\n",
    "\n",
    "    def __init__(self, *args):\n",
    "        \"\"\"Create an empty array.\"\"\"\n",
    "        self._n = 0  # count actual elements\n",
    "        self._capacity = 1  # default array capacity\n",
    "        self._A = self._make_array(self._capacity)  # low-level array\n",
    "        if len(args) < 1:\n",
    "            self.resize_factor = 2\n",
    "        else:\n",
    "            self.resize_factor = int(args[0])\n",
    "\n",
    "    def __len__(self):\n",
    "        \"\"\"Return number of elements stored in the array.\"\"\"\n",
    "        return self._n\n",
    "\n",
    "    def __getitem__(self, k):\n",
    "        \"\"\"Return element at index k.\"\"\"\n",
    "        if not 0 <= k < self._n:\n",
    "            raise IndexError('invalid index')\n",
    "        return self._A[k]  # retrieve from array\n",
    "\n",
    "    def append(self, obj):\n",
    "        \"\"\"Add object to end of the array.\"\"\"\n",
    "        if self._n == self._capacity:  # not enough room\n",
    "            self._resize(self.resize_factor * self._capacity)  # so double capacity\n",
    "        self._A[self._n] = obj\n",
    "        self._n += 1\n",
    "\n",
    "    def _resize(self, c):  # nonpublic utitity\n",
    "        \"\"\"Resize internal array to capacity c.\"\"\"\n",
    "        B = self._make_array(c)  # new (bigger) array\n",
    "        for k in range(self._n):  # for each existing value\n",
    "            B[k] = self._A[k]\n",
    "        self._A = B  # use the bigger array\n",
    "        self._capacity = c\n",
    "\n",
    "    def _make_array(self, c):  # nonpublic utitity\n",
    "        \"\"\"Return new array with capacity c.\"\"\"\n",
    "        return (c * ctypes.py_object)()  # see ctypes documentation\n",
    "\n",
    "    def insert(self, k, value):\n",
    "        \"\"\"Insert value at index k, shifting subsequent values rightward.\"\"\"\n",
    "        # (for simplicity, we assume 0 <= k <= n in this verion)\n",
    "        if self._n == self._capacity:  # not enough room\n",
    "            self._resize(self.resize_factor * self._capacity)  # so double capacity\n",
    "        for j in range(self._n, k, -1):  # shift rightmost first\n",
    "            self._A[j] = self._A[j - 1]\n",
    "        self._A[k] = value  # store newest element\n",
    "        self._n += 1\n",
    "\n",
    "    def remove(self, value):\n",
    "        \"\"\"Remove first occurrence of value (or raise ValueError).\"\"\"\n",
    "        # note: we do not consider shrinking the dynamic array in this version\n",
    "        for k in range(self._n):\n",
    "            if self._A[k] == value:  # found a match!\n",
    "                for j in range(k, self._n - 1):  # shift others to fill gap\n",
    "                    self._A[j] = self._A[j + 1]\n",
    "                self._A[self._n - 1] = None  # help garbage collection\n",
    "                self._n -= 1  # we have one less item\n",
    "                return  # exit immediately\n",
    "        raise ValueError('value not found')  # only reached if no match"
   ],
   "metadata": {
    "collapsed": false,
    "pycharm": {
     "name": "#%%\n"
    }
   }
  },
  {
   "cell_type": "code",
   "execution_count": 59,
   "outputs": [
    {
     "name": "stdout",
     "output_type": "stream",
     "text": [
      "Average of 0.000 for n 10\n",
      "Average of 0.000 for n 100\n",
      "Average of 1.002 for n 1000\n",
      "Average of 0.600 for n 10000\n",
      "Average of 0.556 for n 100000\n",
      "Average of 0.395 for n 1000000\n",
      "Average of 0.471 for n 10000000\n"
     ]
    }
   ],
   "source": [
    "import sys\n",
    "from time import time\n",
    "\n",
    "try:\n",
    "    maxN = int(sys.argv[1])\n",
    "except:\n",
    "    maxN = 10000000\n",
    "\n",
    "from time import time            # import time function from time module\n",
    "def compute_average(n):\n",
    "  \"\"\"Perform n appends to an empty list and return average time elapsed.\"\"\"\n",
    "  data = DynamicArray(4)\n",
    "  start = time()                 # record the start time (in seconds)\n",
    "  for k in range(n):\n",
    "    data.append(None)\n",
    "  end = time()                   # record the end time (in seconds)\n",
    "  return (end - start) / n       # compute average per operation\n",
    "\n",
    "n = 10\n",
    "while n <= maxN:\n",
    "  print('Average of {0:.3f} for n {1}'.format(compute_average(n)*1000000, n))\n",
    "  n *= 10\n"
   ],
   "metadata": {
    "collapsed": false,
    "pycharm": {
     "name": "#%%\n"
    }
   }
  }
 ],
 "metadata": {
  "kernelspec": {
   "display_name": "Python 3",
   "language": "python",
   "name": "python3"
  },
  "language_info": {
   "codemirror_mode": {
    "name": "ipython",
    "version": 2
   },
   "file_extension": ".py",
   "mimetype": "text/x-python",
   "name": "python",
   "nbconvert_exporter": "python",
   "pygments_lexer": "ipython2",
   "version": "2.7.6"
  }
 },
 "nbformat": 4,
 "nbformat_minor": 0
}